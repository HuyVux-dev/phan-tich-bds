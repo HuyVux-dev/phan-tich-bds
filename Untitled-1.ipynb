{
 "cells": [
  {
   "cell_type": "code",
   "execution_count": 1,
   "metadata": {},
   "outputs": [],
   "source": [
    "from bs4 import BeautifulSoup\n"
   ]
  },
  {
   "cell_type": "code",
   "execution_count": 15,
   "metadata": {},
   "outputs": [],
   "source": [
    "with open(\"data/-2-ang-mai-view-nhin-lon-tien-di-lai-huong-tron-tien-ich-full-noi-that-pr40902648.html\", \"r\", encoding=\"utf-8\") as file:\n",
    "    content = file.read()\n",
    "\n",
    "# Phân tích cú pháp HTML\n",
    "soup = BeautifulSoup(content, 'html.parser')"
   ]
  },
  {
   "cell_type": "code",
   "execution_count": 16,
   "metadata": {},
   "outputs": [
    {
     "data": {
      "text/plain": [
       "[]"
      ]
     },
     "execution_count": 16,
     "metadata": {},
     "output_type": "execute_result"
    }
   ],
   "source": [
    "price_element = soup.find_all('li', class_='js__option re__option')\n",
    "price_element"
   ]
  },
  {
   "cell_type": "code",
   "execution_count": 19,
   "metadata": {},
   "outputs": [
    {
     "data": {
      "text/plain": [
       "'Căn hộ chung cư tại Khu đô thị Đền Lừ II'"
      ]
     },
     "execution_count": 19,
     "metadata": {},
     "output_type": "execute_result"
    }
   ],
   "source": [
    "a_tag_level_3 = soup.find('a', {'level': '4'}).text\n",
    "a_tag_level_3"
   ]
  },
  {
   "cell_type": "markdown",
   "metadata": {},
   "source": []
  },
  {
   "cell_type": "code",
   "execution_count": 12,
   "metadata": {},
   "outputs": [
    {
     "name": "stdout",
     "output_type": "stream",
     "text": [
      "4,85 tỷ\n"
     ]
    }
   ],
   "source": [
    "# Tìm giá\n",
    "def get_price(soup):\n",
    "    price_element = soup.find('span', class_='value')  # Thay đổi class nếu cần\n",
    "    if price_element:\n",
    "        price = price_element.get_text(strip=True)\n",
    "        return price\n",
    "    \n",
    "print(get_price(soup))"
   ]
  },
  {
   "cell_type": "code",
   "execution_count": 14,
   "metadata": {},
   "outputs": [
    {
     "name": "stdout",
     "output_type": "stream",
     "text": [
      "~146,97 triệu/m²\n"
     ]
    }
   ],
   "source": [
    "def get_price_per_m(soup):\n",
    "    price_ext_element = soup.find('span', class_='ext')  # Thay đổi class nếu cần\n",
    "    if price_ext_element:\n",
    "        price_per_m = price_ext_element.get_text(strip=True)\n",
    "        return price_per_m\n",
    "    \n",
    "print(get_price_per_m(soup))"
   ]
  },
  {
   "cell_type": "code",
   "execution_count": null,
   "metadata": {},
   "outputs": [],
   "source": [
    "def get_total_area(soup):\n",
    "    area_element = soup.find('span', class_='ext')  # Thay đổi class nếu cần\n",
    "    if area_element:\n",
    "        total_area = area_element.get_text(strip=True)\n",
    "        return total_area\n",
    "    \n",
    "print(get_total_area(soup))"
   ]
  },
  {
   "cell_type": "code",
   "execution_count": 15,
   "metadata": {},
   "outputs": [
    {
     "data": {
      "text/plain": [
       "<span class=\"value\">4,85 tỷ</span>"
      ]
     },
     "execution_count": 15,
     "metadata": {},
     "output_type": "execute_result"
    }
   ],
   "source": [
    "price_element = soup.find('span', class_='value')\n",
    "price_element"
   ]
  },
  {
   "cell_type": "code",
   "execution_count": 29,
   "metadata": {},
   "outputs": [
    {
     "data": {
      "text/plain": [
       "bs4.element.Tag"
      ]
     },
     "execution_count": 29,
     "metadata": {},
     "output_type": "execute_result"
    }
   ],
   "source": [
    "info_area = soup.find_all('div', class_='re__pr-short-info-item js__pr-short-info-item')\n",
    "type(info_area[0])"
   ]
  },
  {
   "cell_type": "code",
   "execution_count": 46,
   "metadata": {},
   "outputs": [
    {
     "name": "stdout",
     "output_type": "stream",
     "text": [
      "Diện tích: 33.3 m²\n",
      "Mặt tiền: 3.0 m\n"
     ]
    }
   ],
   "source": [
    "import re\n",
    "\n",
    "def extract_float(s):\n",
    "    if not s:\n",
    "        return None\n",
    "    # Sử dụng regex để tìm số thập phân trong chuỗi, ví dụ \"3.9\" từ \"Mặt tiền 3.9 m\"\n",
    "    match = re.search(r'\\d+(\\.\\d+)?', s)\n",
    "    if match:\n",
    "        return float(match.group())  # Trả về số thập phân\n",
    "    return None  # Trường hợp không tìm thấy số\n",
    "\n",
    "def extract_integer(s):\n",
    "    # Sử dụng regex để tìm số nguyên trong chuỗi, bỏ qua đơn vị \"m²\"\n",
    "    if not s:\n",
    "        return None\n",
    "    match = re.search(r'\\d+', s)\n",
    "    if match:\n",
    "        return int(match.group())  # Trả về số nguyên\n",
    "    return None  # Trường hợp không tìm thấy số\n",
    "\n",
    "# Ví dụ\n",
    "area = '33.3 m²'\n",
    "area_ext = 'Mặt tiền 3 m'\n",
    "\n",
    "# Lấy ra số nguyên từ area\n",
    "area_value = extract_float(area)\n",
    "print(f'Diện tích: {area_value} m²')\n",
    "\n",
    "# Lấy ra số thập phân từ area_ext\n",
    "frontage_value = extract_float(area_ext)\n",
    "print(f'Mặt tiền: {frontage_value} m')\n"
   ]
  },
  {
   "cell_type": "code",
   "execution_count": null,
   "metadata": {},
   "outputs": [],
   "source": [
    "import re\n",
    "\n",
    "def convert_price_to_billion(price_str):\n",
    "    if not price_str:\n",
    "        return None\n",
    "    # Chuyển chuỗi thành chữ thường để xử lý cả trường hợp viết hoa\n",
    "    price_str = price_str.lower()\n",
    "\n",
    "    # Sử dụng regex để tìm các con số và đơn vị \"tỷ\" hoặc \"triệu\"\n",
    "    pattern = re.findall(r'(\\d+(?:,\\d+)?)\\s*(tỷ|triệu)', price_str)\n",
    "\n",
    "    # Khởi tạo giá trị\n",
    "    total_price_in_billion = 0\n",
    "\n",
    "    for value, unit in pattern:\n",
    "        # Xóa dấu phẩy trong số (nếu có) và chuyển thành float\n",
    "        value = float(value.replace(',', '.'))\n",
    "\n",
    "        # Chuyển đổi tùy thuộc vào đơn vị là \"tỷ\" hay \"triệu\"\n",
    "        if unit == \"tỷ\":\n",
    "            total_price_in_billion += value\n",
    "        elif unit == \"triệu\":\n",
    "            total_price_in_billion += value / 1000  # Chuyển triệu thành tỷ\n",
    "\n",
    "    return total_price_in_billion\n",
    "\n",
    "# Ví dụ\n",
    "price_str = \"4 Tỷ 300 Triệu\"\n",
    "price_in_billion = convert_price_to_billion(price_str)\n",
    "\n",
    "print(f'Giá trị: {price_in_billion} tỷ')\n"
   ]
  },
  {
   "cell_type": "code",
   "execution_count": 49,
   "metadata": {},
   "outputs": [
    {
     "name": "stdout",
     "output_type": "stream",
     "text": [
      "{'price': 4.85, 'price_ext': 0.14697, 'area': 33.0, 'area_ext': 3.9, 'bedroom': 3, 'bedroom_ext': None}\n"
     ]
    }
   ],
   "source": [
    "def get_short_info(soup):\n",
    "    # Tìm các div chứa thông tin về giá, diện tích, phòng ngủ\n",
    "    price_element, area_element, bedroom_element = soup.find_all('div', class_=\"re__pr-short-info-item js__pr-short-info-item\")\n",
    "\n",
    "    # Lấy thông tin giá\n",
    "    price = price_element.find('span', class_='value').text if price_element.find('span', class_='value') else None\n",
    "    price_ext = price_element.find('span', class_='ext').text if price_element.find('span', class_='ext') else None\n",
    "\n",
    "    # Lấy thông tin diện tích\n",
    "    area = area_element.find('span', class_='value').text if area_element.find('span', class_='value') else None\n",
    "    area_ext = area_element.find('span', class_='ext').text if area_element.find('span', class_='ext') else None\n",
    "\n",
    "    # Lấy thông tin phòng ngủ\n",
    "    bedroom = bedroom_element.find('span', class_='value').text if bedroom_element.find('span', class_='value') else None\n",
    "    bedroom_ext = bedroom_element.find('span', class_='ext').text if bedroom_element.find('span', class_='ext') else None\n",
    "\n",
    "    # Trả về kết quả dưới dạng dictionary\n",
    "    return {\n",
    "        'price': convert_price_to_billion(price),\n",
    "        'price_ext': convert_price_to_billion(price_ext),\n",
    "        'area': extract_float(area),\n",
    "        'area_ext': extract_float(area_ext),\n",
    "        'bedroom': extract_integer(bedroom),\n",
    "        'bedroom_ext': extract_integer(bedroom_ext)\n",
    "    }\n",
    "\n",
    "# Giả sử bạn đã có biến soup, gọi hàm get_short_info(soup)\n",
    "print(get_short_info(soup))"
   ]
  },
  {
   "cell_type": "code",
   "execution_count": 36,
   "metadata": {},
   "outputs": [
    {
     "name": "stdout",
     "output_type": "stream",
     "text": [
      "Giá trị: 4.3 tỷ\n"
     ]
    }
   ],
   "source": []
  },
  {
   "cell_type": "code",
   "execution_count": 41,
   "metadata": {},
   "outputs": [
    {
     "name": "stdout",
     "output_type": "stream",
     "text": [
      "Diện tích: 33.3 m²\n",
      "Mặt tiền: 3.0 m\n"
     ]
    }
   ],
   "source": []
  },
  {
   "cell_type": "code",
   "execution_count": 61,
   "metadata": {},
   "outputs": [
    {
     "data": {
      "text/plain": [
       "[<div class=\"re__pr-specs-content-item\">\n",
       " <span class=\"re__pr-specs-content-item-icon\"><i class=\"re__icon-size\"></i></span>\n",
       " <span class=\"re__pr-specs-content-item-title\">Diện tích</span>\n",
       " <span class=\"re__pr-specs-content-item-value\">33 m²</span>\n",
       " </div>,\n",
       " <div class=\"re__pr-specs-content-item\">\n",
       " <span class=\"re__pr-specs-content-item-icon\"><i class=\"re__icon-money\"></i></span>\n",
       " <span class=\"re__pr-specs-content-item-title\">Mức giá</span>\n",
       " <span class=\"re__pr-specs-content-item-value\">4,85 tỷ</span>\n",
       " </div>,\n",
       " <div class=\"re__pr-specs-content-item\">\n",
       " <span class=\"re__pr-specs-content-item-icon\"><i class=\"re__icon-home\"></i></span>\n",
       " <span class=\"re__pr-specs-content-item-title\">Mặt tiền</span>\n",
       " <span class=\"re__pr-specs-content-item-value\">3,9 m</span>\n",
       " </div>,\n",
       " <div class=\"re__pr-specs-content-item\">\n",
       " <span class=\"re__pr-specs-content-item-icon\"><i class=\"re__icon-bedroom\"></i></span>\n",
       " <span class=\"re__pr-specs-content-item-title\">Số phòng ngủ</span>\n",
       " <span class=\"re__pr-specs-content-item-value\">3 phòng</span>\n",
       " </div>]"
      ]
     },
     "execution_count": 61,
     "metadata": {},
     "output_type": "execute_result"
    }
   ],
   "source": [
    "abc = soup.find_all('div', class_=\"re__pr-specs-content-item\")\n",
    "abc"
   ]
  },
  {
   "cell_type": "code",
   "execution_count": 52,
   "metadata": {},
   "outputs": [],
   "source": [
    "def get_detail_name(soup):\n",
    "    return soup.find_all('span', class_=\"re__pr-specs-content-item-title\")\n"
   ]
  },
  {
   "cell_type": "code",
   "execution_count": 53,
   "metadata": {},
   "outputs": [
    {
     "data": {
      "text/plain": [
       "28"
      ]
     },
     "execution_count": 53,
     "metadata": {},
     "output_type": "execute_result"
    }
   ],
   "source": [
    "import glob\n",
    "\n",
    "html_files = glob.glob('data/*.html')\n",
    "len(html_files)"
   ]
  },
  {
   "cell_type": "code",
   "execution_count": 64,
   "metadata": {},
   "outputs": [],
   "source": [
    "abc = []\n",
    "for html_file in html_files:\n",
    "    with open(html_file, \"r\", encoding=\"utf-8\") as file:\n",
    "        content = file.read()\n",
    "\n",
    "    # Phân tích cú pháp HTML\n",
    "    soup = BeautifulSoup(content, 'html.parser')\n",
    "    detail = get_detail_name(soup)\n",
    "    for item in detail:\n",
    "        if item.text not in abc:\n",
    "            abc.append(item.text)"
   ]
  },
  {
   "cell_type": "code",
   "execution_count": 65,
   "metadata": {},
   "outputs": [
    {
     "data": {
      "text/plain": [
       "['Diện tích',\n",
       " 'Mức giá',\n",
       " 'Đường vào',\n",
       " 'Mặt tiền',\n",
       " 'Hướng nhà',\n",
       " 'Hướng ban công',\n",
       " 'Số phòng ngủ',\n",
       " 'Số toilet',\n",
       " 'Pháp lý',\n",
       " 'Nội thất',\n",
       " 'Số tầng']"
      ]
     },
     "execution_count": 65,
     "metadata": {},
     "output_type": "execute_result"
    }
   ],
   "source": [
    "abc"
   ]
  },
  {
   "cell_type": "code",
   "execution_count": 67,
   "metadata": {},
   "outputs": [
    {
     "name": "stdout",
     "output_type": "stream",
     "text": [
      "       Tên  Tuổi\n",
      "0    Alice  25.0\n",
      "1      Bob  30.0\n",
      "2  Charlie   NaN\n"
     ]
    }
   ],
   "source": [
    "import pandas as pd\n",
    "\n",
    "# Tạo DataFrame ban đầu\n",
    "df = pd.DataFrame({\n",
    "    'Tên': ['Alice', 'Bob'],\n",
    "    'Tuổi': [25, 30]\n",
    "})\n",
    "\n",
    "# Tạo dict cần thêm\n",
    "new_row = {'Tên': 'Charlie'}\n",
    "\n",
    "# Thêm dict vào DataFrame tại một dòng mới\n",
    "df.loc[len(df)] = new_row\n",
    "\n",
    "print(df)"
   ]
  },
  {
   "cell_type": "code",
   "execution_count": 83,
   "metadata": {},
   "outputs": [
    {
     "data": {
      "text/plain": [
       "{'Diện tích': '33 m²',\n",
       " 'Mức giá': '4,85 tỷ',\n",
       " 'Mặt tiền': '3,9 m',\n",
       " 'Số phòng ngủ': '3 phòng'}"
      ]
     },
     "execution_count": 83,
     "metadata": {},
     "output_type": "execute_result"
    }
   ],
   "source": [
    "def get_details(soup):\n",
    "    content_items = soup.find_all('div', class_=\"re__pr-specs-content-item\")\n",
    "    content = {}\n",
    "    for item in content_items:\n",
    "        key = item.find('span', class_='re__pr-specs-content-item-title').text\n",
    "        value = item.find('span', class_='re__pr-specs-content-item-value').text\n",
    "        content[key] = value\n",
    "    return content\n",
    "\n",
    "abc = get_details(soup)\n",
    "abc"
   ]
  },
  {
   "cell_type": "code",
   "execution_count": 86,
   "metadata": {},
   "outputs": [],
   "source": [
    "import glob\n",
    "\n",
    "html_files = glob.glob('data/*.html')\n",
    "\n",
    "# Create list store detail names\n",
    "feature_names = []\n",
    "list_post_details = []\n",
    "for html_file in html_files:\n",
    "    with open(html_file, \"r\", encoding=\"utf-8\") as file:\n",
    "        content = file.read()\n",
    "\n",
    "    # Phân tích cú pháp HTML\n",
    "    soup = BeautifulSoup(content, 'html.parser')\n",
    "    content = get_details(soup)\n",
    "    list_post_details.append(content)\n",
    "    \n",
    "    for item in content:\n",
    "        if item not in feature_names:\n",
    "            feature_names.append(item)\n",
    "\n"
   ]
  },
  {
   "cell_type": "code",
   "execution_count": 85,
   "metadata": {},
   "outputs": [
    {
     "data": {
      "text/plain": [
       "['Diện tích',\n",
       " 'Mức giá',\n",
       " 'Đường vào',\n",
       " 'Mặt tiền',\n",
       " 'Hướng nhà',\n",
       " 'Hướng ban công',\n",
       " 'Số phòng ngủ',\n",
       " 'Số toilet',\n",
       " 'Pháp lý',\n",
       " 'Nội thất',\n",
       " 'Số tầng']"
      ]
     },
     "execution_count": 85,
     "metadata": {},
     "output_type": "execute_result"
    }
   ],
   "source": [
    "feature_names"
   ]
  },
  {
   "cell_type": "code",
   "execution_count": 87,
   "metadata": {},
   "outputs": [],
   "source": [
    "import pandas as pd\n",
    "\n",
    "# Tạo DataFrame trống với các cột xác định\n",
    "df = pd.DataFrame(columns=feature_names)\n",
    "\n",
    "# Chuyển list các dict thành DataFrame mới\n",
    "new_rows_df = pd.DataFrame(list_post_details)\n",
    "\n",
    "# Sử dụng pd.concat để ghép DataFrame mới với DataFrame ban đầu\n",
    "df = pd.concat([df, new_rows_df], ignore_index=True)"
   ]
  },
  {
   "cell_type": "code",
   "execution_count": 88,
   "metadata": {},
   "outputs": [
    {
     "data": {
      "text/html": [
       "<div>\n",
       "<style scoped>\n",
       "    .dataframe tbody tr th:only-of-type {\n",
       "        vertical-align: middle;\n",
       "    }\n",
       "\n",
       "    .dataframe tbody tr th {\n",
       "        vertical-align: top;\n",
       "    }\n",
       "\n",
       "    .dataframe thead th {\n",
       "        text-align: right;\n",
       "    }\n",
       "</style>\n",
       "<table border=\"1\" class=\"dataframe\">\n",
       "  <thead>\n",
       "    <tr style=\"text-align: right;\">\n",
       "      <th></th>\n",
       "      <th>Diện tích</th>\n",
       "      <th>Mức giá</th>\n",
       "      <th>Đường vào</th>\n",
       "      <th>Mặt tiền</th>\n",
       "      <th>Hướng nhà</th>\n",
       "      <th>Hướng ban công</th>\n",
       "      <th>Số phòng ngủ</th>\n",
       "      <th>Số toilet</th>\n",
       "      <th>Pháp lý</th>\n",
       "      <th>Nội thất</th>\n",
       "      <th>Số tầng</th>\n",
       "    </tr>\n",
       "  </thead>\n",
       "  <tbody>\n",
       "    <tr>\n",
       "      <th>0</th>\n",
       "      <td>170 m²</td>\n",
       "      <td>27 tỷ</td>\n",
       "      <td>11,5 m</td>\n",
       "      <td>NaN</td>\n",
       "      <td>NaN</td>\n",
       "      <td>NaN</td>\n",
       "      <td>NaN</td>\n",
       "      <td>NaN</td>\n",
       "      <td>NaN</td>\n",
       "      <td>NaN</td>\n",
       "      <td>NaN</td>\n",
       "    </tr>\n",
       "    <tr>\n",
       "      <th>1</th>\n",
       "      <td>170 m²</td>\n",
       "      <td>26 tỷ</td>\n",
       "      <td>NaN</td>\n",
       "      <td>NaN</td>\n",
       "      <td>NaN</td>\n",
       "      <td>NaN</td>\n",
       "      <td>NaN</td>\n",
       "      <td>NaN</td>\n",
       "      <td>NaN</td>\n",
       "      <td>NaN</td>\n",
       "      <td>NaN</td>\n",
       "    </tr>\n",
       "    <tr>\n",
       "      <th>2</th>\n",
       "      <td>90 m²</td>\n",
       "      <td>18 tỷ</td>\n",
       "      <td>14 m</td>\n",
       "      <td>6 m</td>\n",
       "      <td>Đông - Nam</td>\n",
       "      <td>Đông - Nam</td>\n",
       "      <td>NaN</td>\n",
       "      <td>NaN</td>\n",
       "      <td>NaN</td>\n",
       "      <td>NaN</td>\n",
       "      <td>NaN</td>\n",
       "    </tr>\n",
       "    <tr>\n",
       "      <th>3</th>\n",
       "      <td>66 m²</td>\n",
       "      <td>Thỏa thuận</td>\n",
       "      <td>NaN</td>\n",
       "      <td>NaN</td>\n",
       "      <td>NaN</td>\n",
       "      <td>NaN</td>\n",
       "      <td>2 phòng</td>\n",
       "      <td>2 phòng</td>\n",
       "      <td>Sổ đỏ/ Sổ hồng</td>\n",
       "      <td>Đầy đủ</td>\n",
       "      <td>NaN</td>\n",
       "    </tr>\n",
       "    <tr>\n",
       "      <th>4</th>\n",
       "      <td>33 m²</td>\n",
       "      <td>4,85 tỷ</td>\n",
       "      <td>NaN</td>\n",
       "      <td>3,9 m</td>\n",
       "      <td>NaN</td>\n",
       "      <td>NaN</td>\n",
       "      <td>3 phòng</td>\n",
       "      <td>NaN</td>\n",
       "      <td>NaN</td>\n",
       "      <td>NaN</td>\n",
       "      <td>NaN</td>\n",
       "    </tr>\n",
       "  </tbody>\n",
       "</table>\n",
       "</div>"
      ],
      "text/plain": [
       "  Diện tích     Mức giá Đường vào Mặt tiền   Hướng nhà Hướng ban công  \\\n",
       "0    170 m²       27 tỷ    11,5 m      NaN         NaN            NaN   \n",
       "1    170 m²       26 tỷ       NaN      NaN         NaN            NaN   \n",
       "2     90 m²       18 tỷ      14 m      6 m  Đông - Nam     Đông - Nam   \n",
       "3     66 m²  Thỏa thuận       NaN      NaN         NaN            NaN   \n",
       "4     33 m²     4,85 tỷ       NaN    3,9 m         NaN            NaN   \n",
       "\n",
       "  Số phòng ngủ Số toilet         Pháp lý Nội thất Số tầng  \n",
       "0          NaN       NaN             NaN      NaN     NaN  \n",
       "1          NaN       NaN             NaN      NaN     NaN  \n",
       "2          NaN       NaN             NaN      NaN     NaN  \n",
       "3      2 phòng   2 phòng  Sổ đỏ/ Sổ hồng   Đầy đủ     NaN  \n",
       "4      3 phòng       NaN             NaN      NaN     NaN  "
      ]
     },
     "execution_count": 88,
     "metadata": {},
     "output_type": "execute_result"
    }
   ],
   "source": [
    "df.head()"
   ]
  },
  {
   "cell_type": "code",
   "execution_count": 89,
   "metadata": {},
   "outputs": [
    {
     "data": {
      "text/plain": [
       "(28, 11)"
      ]
     },
     "execution_count": 89,
     "metadata": {},
     "output_type": "execute_result"
    }
   ],
   "source": [
    "df.shape"
   ]
  },
  {
   "cell_type": "code",
   "execution_count": 90,
   "metadata": {},
   "outputs": [
    {
     "name": "stdout",
     "output_type": "stream",
     "text": [
      "Diện tích         28\n",
      "Mức giá           28\n",
      "Đường vào          6\n",
      "Mặt tiền           8\n",
      "Hướng nhà          8\n",
      "Hướng ban công     6\n",
      "Số phòng ngủ      11\n",
      "Số toilet          9\n",
      "Pháp lý           18\n",
      "Nội thất           7\n",
      "Số tầng            5\n",
      "dtype: int64\n"
     ]
    }
   ],
   "source": [
    "non_empty_counts = df.count()\n",
    "\n",
    "print(non_empty_counts)\n"
   ]
  },
  {
   "cell_type": "code",
   "execution_count": 92,
   "metadata": {},
   "outputs": [
    {
     "ename": "ValueError",
     "evalue": "could not convert string to float: '170 m²'",
     "output_type": "error",
     "traceback": [
      "\u001b[1;31m---------------------------------------------------------------------------\u001b[0m",
      "\u001b[1;31mValueError\u001b[0m                                Traceback (most recent call last)",
      "Cell \u001b[1;32mIn[92], line 4\u001b[0m\n\u001b[0;32m      1\u001b[0m \u001b[38;5;28;01mimport\u001b[39;00m \u001b[38;5;21;01mmatplotlib\u001b[39;00m\u001b[38;5;21;01m.\u001b[39;00m\u001b[38;5;21;01mpyplot\u001b[39;00m \u001b[38;5;28;01mas\u001b[39;00m \u001b[38;5;21;01mplt\u001b[39;00m\n\u001b[0;32m      3\u001b[0m \u001b[38;5;66;03m# Tính hệ số tương quan của tất cả các cột so với cột \"Mức giá\"\u001b[39;00m\n\u001b[1;32m----> 4\u001b[0m correlations \u001b[38;5;241m=\u001b[39m \u001b[43mdf\u001b[49m\u001b[38;5;241;43m.\u001b[39;49m\u001b[43mcorr\u001b[49m\u001b[43m(\u001b[49m\u001b[43m)\u001b[49m[\u001b[38;5;124m'\u001b[39m\u001b[38;5;124mMức giá\u001b[39m\u001b[38;5;124m'\u001b[39m]  \u001b[38;5;66;03m# Loại bỏ chính cột 'Mức giá' ra\u001b[39;00m\n\u001b[0;32m      6\u001b[0m \u001b[38;5;66;03m# Vẽ biểu đồ cột\u001b[39;00m\n\u001b[0;32m      7\u001b[0m plt\u001b[38;5;241m.\u001b[39mfigure(figsize\u001b[38;5;241m=\u001b[39m(\u001b[38;5;241m8\u001b[39m, \u001b[38;5;241m5\u001b[39m))\n",
      "File \u001b[1;32mc:\\Users\\vutua\\anaconda3\\envs\\de\\lib\\site-packages\\pandas\\core\\frame.py:11049\u001b[0m, in \u001b[0;36mDataFrame.corr\u001b[1;34m(self, method, min_periods, numeric_only)\u001b[0m\n\u001b[0;32m  11047\u001b[0m cols \u001b[38;5;241m=\u001b[39m data\u001b[38;5;241m.\u001b[39mcolumns\n\u001b[0;32m  11048\u001b[0m idx \u001b[38;5;241m=\u001b[39m cols\u001b[38;5;241m.\u001b[39mcopy()\n\u001b[1;32m> 11049\u001b[0m mat \u001b[38;5;241m=\u001b[39m \u001b[43mdata\u001b[49m\u001b[38;5;241;43m.\u001b[39;49m\u001b[43mto_numpy\u001b[49m\u001b[43m(\u001b[49m\u001b[43mdtype\u001b[49m\u001b[38;5;241;43m=\u001b[39;49m\u001b[38;5;28;43mfloat\u001b[39;49m\u001b[43m,\u001b[49m\u001b[43m \u001b[49m\u001b[43mna_value\u001b[49m\u001b[38;5;241;43m=\u001b[39;49m\u001b[43mnp\u001b[49m\u001b[38;5;241;43m.\u001b[39;49m\u001b[43mnan\u001b[49m\u001b[43m,\u001b[49m\u001b[43m \u001b[49m\u001b[43mcopy\u001b[49m\u001b[38;5;241;43m=\u001b[39;49m\u001b[38;5;28;43;01mFalse\u001b[39;49;00m\u001b[43m)\u001b[49m\n\u001b[0;32m  11051\u001b[0m \u001b[38;5;28;01mif\u001b[39;00m method \u001b[38;5;241m==\u001b[39m \u001b[38;5;124m\"\u001b[39m\u001b[38;5;124mpearson\u001b[39m\u001b[38;5;124m\"\u001b[39m:\n\u001b[0;32m  11052\u001b[0m     correl \u001b[38;5;241m=\u001b[39m libalgos\u001b[38;5;241m.\u001b[39mnancorr(mat, minp\u001b[38;5;241m=\u001b[39mmin_periods)\n",
      "File \u001b[1;32mc:\\Users\\vutua\\anaconda3\\envs\\de\\lib\\site-packages\\pandas\\core\\frame.py:1993\u001b[0m, in \u001b[0;36mDataFrame.to_numpy\u001b[1;34m(self, dtype, copy, na_value)\u001b[0m\n\u001b[0;32m   1991\u001b[0m \u001b[38;5;28;01mif\u001b[39;00m dtype \u001b[38;5;129;01mis\u001b[39;00m \u001b[38;5;129;01mnot\u001b[39;00m \u001b[38;5;28;01mNone\u001b[39;00m:\n\u001b[0;32m   1992\u001b[0m     dtype \u001b[38;5;241m=\u001b[39m np\u001b[38;5;241m.\u001b[39mdtype(dtype)\n\u001b[1;32m-> 1993\u001b[0m result \u001b[38;5;241m=\u001b[39m \u001b[38;5;28;43mself\u001b[39;49m\u001b[38;5;241;43m.\u001b[39;49m\u001b[43m_mgr\u001b[49m\u001b[38;5;241;43m.\u001b[39;49m\u001b[43mas_array\u001b[49m\u001b[43m(\u001b[49m\u001b[43mdtype\u001b[49m\u001b[38;5;241;43m=\u001b[39;49m\u001b[43mdtype\u001b[49m\u001b[43m,\u001b[49m\u001b[43m \u001b[49m\u001b[43mcopy\u001b[49m\u001b[38;5;241;43m=\u001b[39;49m\u001b[43mcopy\u001b[49m\u001b[43m,\u001b[49m\u001b[43m \u001b[49m\u001b[43mna_value\u001b[49m\u001b[38;5;241;43m=\u001b[39;49m\u001b[43mna_value\u001b[49m\u001b[43m)\u001b[49m\n\u001b[0;32m   1994\u001b[0m \u001b[38;5;28;01mif\u001b[39;00m result\u001b[38;5;241m.\u001b[39mdtype \u001b[38;5;129;01mis\u001b[39;00m \u001b[38;5;129;01mnot\u001b[39;00m dtype:\n\u001b[0;32m   1995\u001b[0m     result \u001b[38;5;241m=\u001b[39m np\u001b[38;5;241m.\u001b[39masarray(result, dtype\u001b[38;5;241m=\u001b[39mdtype)\n",
      "File \u001b[1;32mc:\\Users\\vutua\\anaconda3\\envs\\de\\lib\\site-packages\\pandas\\core\\internals\\managers.py:1688\u001b[0m, in \u001b[0;36mBlockManager.as_array\u001b[1;34m(self, dtype, copy, na_value)\u001b[0m\n\u001b[0;32m   1686\u001b[0m     arr \u001b[38;5;241m=\u001b[39m np\u001b[38;5;241m.\u001b[39masarray(blk\u001b[38;5;241m.\u001b[39mvalues, dtype\u001b[38;5;241m=\u001b[39mdtype)\n\u001b[0;32m   1687\u001b[0m \u001b[38;5;28;01melse\u001b[39;00m:\n\u001b[1;32m-> 1688\u001b[0m     arr \u001b[38;5;241m=\u001b[39m \u001b[43mnp\u001b[49m\u001b[38;5;241;43m.\u001b[39;49m\u001b[43marray\u001b[49m\u001b[43m(\u001b[49m\u001b[43mblk\u001b[49m\u001b[38;5;241;43m.\u001b[39;49m\u001b[43mvalues\u001b[49m\u001b[43m,\u001b[49m\u001b[43m \u001b[49m\u001b[43mdtype\u001b[49m\u001b[38;5;241;43m=\u001b[39;49m\u001b[43mdtype\u001b[49m\u001b[43m,\u001b[49m\u001b[43m \u001b[49m\u001b[43mcopy\u001b[49m\u001b[38;5;241;43m=\u001b[39;49m\u001b[43mcopy\u001b[49m\u001b[43m)\u001b[49m\n\u001b[0;32m   1690\u001b[0m \u001b[38;5;28;01mif\u001b[39;00m using_copy_on_write() \u001b[38;5;129;01mand\u001b[39;00m \u001b[38;5;129;01mnot\u001b[39;00m copy:\n\u001b[0;32m   1691\u001b[0m     arr \u001b[38;5;241m=\u001b[39m arr\u001b[38;5;241m.\u001b[39mview()\n",
      "\u001b[1;31mValueError\u001b[0m: could not convert string to float: '170 m²'"
     ]
    }
   ],
   "source": [
    "import matplotlib.pyplot as plt\n",
    "\n",
    "# Tính hệ số tương quan của tất cả các cột so với cột \"Mức giá\"\n",
    "correlations = df.corr()['Mức giá']  # Loại bỏ chính cột 'Mức giá' ra\n",
    "\n",
    "# Vẽ biểu đồ cột\n",
    "plt.figure(figsize=(8, 5))\n",
    "correlations.plot(kind='bar')\n",
    "\n",
    "plt.title('Hệ số tương quan của các cột so với \"Mức giá\"')\n",
    "plt.ylabel('Hệ số tương quan')\n",
    "plt.xlabel('Tên cột')\n",
    "plt.grid(True)\n",
    "plt.show()"
   ]
  },
  {
   "cell_type": "code",
   "execution_count": null,
   "metadata": {},
   "outputs": [],
   "source": []
  },
  {
   "cell_type": "code",
   "execution_count": null,
   "metadata": {},
   "outputs": [],
   "source": []
  }
 ],
 "metadata": {
  "kernelspec": {
   "display_name": "base",
   "language": "python",
   "name": "python3"
  },
  "language_info": {
   "codemirror_mode": {
    "name": "ipython",
    "version": 3
   },
   "file_extension": ".py",
   "mimetype": "text/x-python",
   "name": "python",
   "nbconvert_exporter": "python",
   "pygments_lexer": "ipython3",
   "version": "3.12.4"
  }
 },
 "nbformat": 4,
 "nbformat_minor": 2
}
